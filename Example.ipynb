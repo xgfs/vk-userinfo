{
 "cells": [
  {
   "cell_type": "code",
   "execution_count": 1,
   "metadata": {
    "collapsed": true
   },
   "outputs": [],
   "source": [
    "import ujson\n",
    "import gzip\n",
    "import numpy as np\n",
    "import math\n",
    "from os.path import isfile, isdir\n",
    "from struct import pack, unpack\n",
    "from os import makedirs\n",
    "import os\n",
    "from intbitset import intbitset\n",
    "from struct import pack\n",
    "import itertools\n",
    "import scipy.sparse, scipy.io, scipy.stats\n",
    "import intbitset\n",
    "import pickle as pickle"
   ]
  },
  {
   "cell_type": "markdown",
   "metadata": {},
   "source": [
    "First, we need to download the actual VK user data and adjacency matrix. First, the users data (770Mb) [from GoogleDrive](https://drive.google.com/file/d/0B2i787wUBKkgVC1XcDBic21FaFk/view?usp=sharing)"
   ]
  },
  {
   "cell_type": "markdown",
   "metadata": {},
   "source": [
    "I also provide small adjacency matrix for first 1M VK users (123Mb). You can download it [from GoogleDrive](https://drive.google.com/file/d/0B2i787wUBKkgTW43cGUzR1RCRFU/view?usp=sharing). If someome needs full adjacency matrix, I can also provide it."
   ]
  },
  {
   "cell_type": "code",
   "execution_count": 182,
   "metadata": {
    "collapsed": true
   },
   "outputs": [],
   "source": [
    "maxid = 1000000"
   ]
  },
  {
   "cell_type": "code",
   "execution_count": 2,
   "metadata": {
    "collapsed": true
   },
   "outputs": [],
   "source": [
    "data = np.load('D:\\\\vk\\\\userinfo.npz') # Location of the user info file\n",
    "countryids = data['countryids']\n",
    "#cityids = data['cityids'] # we will use only country IDs in this notebook to sustain the memory constraint lower than 16Gb\n",
    "#uniids = data['uniids']\n",
    "#facids = data['facids']\n",
    "del(data)"
   ]
  },
  {
   "cell_type": "code",
   "execution_count": 4,
   "metadata": {
    "collapsed": false
   },
   "outputs": [
    {
     "data": {
      "text/plain": [
       "(array([293282901,   3031146,    765182,   1009068,   1908958,         2,\n",
       "                3,         2,         2,         1]),\n",
       " array([   0.,   50.,  100.,  150.,  200.,  250.,  300.,  350.,  400.,\n",
       "         450.,  500.]))"
      ]
     },
     "execution_count": 4,
     "metadata": {},
     "output_type": "execute_result"
    }
   ],
   "source": [
    "np.histogram(countryids, range=(0, 500))"
   ]
  },
  {
   "cell_type": "code",
   "execution_count": 5,
   "metadata": {
    "collapsed": false
   },
   "outputs": [
    {
     "data": {
      "text/plain": [
       "array([ 0.,  1.,  1., ...,  0.,  0.,  0.])"
      ]
     },
     "execution_count": 5,
     "metadata": {},
     "output_type": "execute_result"
    }
   ],
   "source": [
    "np.clip(countryids, 0, 235, out=countryids) # Everything except the first 235 IDs is garbage, remove it"
   ]
  },
  {
   "cell_type": "code",
   "execution_count": 7,
   "metadata": {
    "collapsed": true
   },
   "outputs": [],
   "source": [
    "def save_sparse_csr(filename,array):\n",
    "    np.savez_compressed(filename,data = array.data ,indices=array.indices,\n",
    "             indptr =array.indptr, shape=array.shape )\n",
    "\n",
    "def load_sparse_csr(filename):\n",
    "    loader = np.load(filename)\n",
    "    return scipy.sparse.csr_matrix((  loader['data'], loader['indices'], loader['indptr']),\n",
    "                         shape = loader['shape'])"
   ]
  },
  {
   "cell_type": "code",
   "execution_count": 8,
   "metadata": {
    "collapsed": true
   },
   "outputs": [],
   "source": [
    "adj = load_sparse_csr('D:\\\\vk\\\\adj_small.npz')"
   ]
  },
  {
   "cell_type": "code",
   "execution_count": 19,
   "metadata": {
    "collapsed": true
   },
   "outputs": [],
   "source": [
    "distmatrix = np.zeros((236,236), dtype=np.float)"
   ]
  },
  {
   "cell_type": "code",
   "execution_count": 20,
   "metadata": {
    "collapsed": false
   },
   "outputs": [
    {
     "name": "stderr",
     "output_type": "stream",
     "text": [
      "C:\\Anaconda\\lib\\site-packages\\ipykernel\\__main__.py:5: DeprecationWarning: using a non-integer number instead of an integer will result in an error in the future\n",
      "C:\\Anaconda\\lib\\site-packages\\ipykernel\\__main__.py:6: DeprecationWarning: using a non-integer number instead of an integer will result in an error in the future\n"
     ]
    }
   ],
   "source": [
    "nnz = adj.nonzero()\n",
    "for row, col in zip(nnz[0], nnz[1]):\n",
    "    c_r = countryids[row]\n",
    "    c_c = countryids[col]\n",
    "    distmatrix[c_c, c_r] += 1\n",
    "    distmatrix[c_r, c_c] += 1    \n",
    "del(nnz)"
   ]
  },
  {
   "cell_type": "code",
   "execution_count": 337,
   "metadata": {
    "collapsed": false
   },
   "outputs": [],
   "source": [
    "D = distmatrix.copy()\n",
    "D = np.log(D+1)\n",
    "D /= np.sum(D, axis=0) + 1\n",
    "D = D[1:,1:] + 10*np.eye(235) # dirty"
   ]
  },
  {
   "cell_type": "code",
   "execution_count": null,
   "metadata": {
    "collapsed": false
   },
   "outputs": [],
   "source": []
  },
  {
   "cell_type": "code",
   "execution_count": 338,
   "metadata": {
    "collapsed": false
   },
   "outputs": [],
   "source": [
    "plt.imshow(D)\n",
    "plt.show()"
   ]
  },
  {
   "cell_type": "code",
   "execution_count": 183,
   "metadata": {
    "collapsed": false
   },
   "outputs": [],
   "source": [
    "x0 = scipy.sparse.dok_matrix((maxid, 236), dtype=np.float)"
   ]
  },
  {
   "cell_type": "code",
   "execution_count": 184,
   "metadata": {
    "collapsed": false
   },
   "outputs": [],
   "source": [
    "x0[np.arange(maxid), countryids[:maxid]] = 1"
   ]
  },
  {
   "cell_type": "code",
   "execution_count": 185,
   "metadata": {
    "collapsed": false
   },
   "outputs": [],
   "source": [
    "x0 = x0[:, 1:]\n",
    "x0 = x0.tocsr()"
   ]
  },
  {
   "cell_type": "code",
   "execution_count": 355,
   "metadata": {
    "collapsed": false
   },
   "outputs": [],
   "source": [
    "xi = scipy.sparse.lil_matrix(x0, copy=True)"
   ]
  },
  {
   "cell_type": "code",
   "execution_count": 356,
   "metadata": {
    "collapsed": false
   },
   "outputs": [
    {
     "name": "stdout",
     "output_type": "stream",
     "text": [
      "10000 0.054393511261\n",
      "20000 0.053171648398\n",
      "50000 0.0506615454924\n",
      "60000 0.0502575458566\n",
      "70000 0.049985515676\n",
      "80000 0.0497350253726\n",
      "90000 0.0491094307829\n",
      "100000 0.0490249448211\n",
      "110000 0.0486061992423\n",
      "130000 0.0479323235347\n",
      "140000 0.0475941657046\n",
      "150000 0.0472791914364\n",
      "200000 0.0466113621149\n",
      "220000 0.0463916382837\n",
      "240000 0.0461324500008\n",
      "250000 0.0459917842569\n",
      "270000 0.0456883502094\n",
      "280000 0.0454711080492\n",
      "300000 0.0451725447743\n",
      "320000 0.0448420455162\n",
      "330000 0.0448255374088\n",
      "340000 0.0446994277234\n",
      "350000 0.044661991693\n",
      "360000 0.0445182256725\n",
      "370000 0.0444964017392\n",
      "380000 0.0444102716889\n",
      "400000 0.044314737987\n",
      "410000 0.0442112564735\n",
      "420000 0.044144244453\n",
      "430000 0.0440707589213\n",
      "440000 0.0439645145594\n",
      "450000 0.043987981396\n",
      "460000 0.0439331838866\n",
      "480000 0.0437729375202\n",
      "490000 0.0437512045592\n",
      "500000 0.0436718856144\n",
      "510000 0.0436348832393\n",
      "530000 0.0434957435834\n",
      "540000 0.0434388525044\n",
      "550000 0.043428100383\n",
      "570000 0.0434271851817\n",
      "580000 0.0433793254055\n",
      "590000 0.0433447166914\n",
      "600000 0.0433103375723\n",
      "620000 0.0433492873869\n",
      "630000 0.0433496540595\n",
      "640000 0.043381555168\n",
      "650000 0.043277379426\n",
      "670000 0.0432520416435\n",
      "690000 0.0433108304378\n",
      "710000 0.0432832001638\n",
      "720000 0.043273995629\n",
      "730000 0.0432757187054\n",
      "760000 0.0430822542723\n",
      "780000 0.0430154874019\n",
      "810000 0.0429274143433\n",
      "820000 0.0428394458095\n",
      "840000 0.042753482997\n",
      "860000 0.0426195661983\n",
      "870000 0.0425459841038\n",
      "890000 0.0424998562817\n",
      "900000 0.0424488256023\n",
      "910000 0.0424354548137\n",
      "920000 0.0424179363265\n",
      "940000 0.042318664069\n",
      "950000 0.0422382992531\n",
      "960000 0.0422589900008\n",
      "970000 0.0422392511102\n",
      "980000 0.0422169092979\n",
      "990000 0.0421461532856\n",
      "Total error= 42147.9443373\n",
      "10000 0.00188855125791\n",
      "20000 0.001803329952\n",
      "50000 0.0015373697839\n",
      "60000 0.00149748209272\n",
      "70000 0.00145366447945\n",
      "80000 0.00141655296409\n",
      "90000 0.00139001989939\n",
      "100000 0.00136740538341\n",
      "110000 0.00135747951389\n",
      "130000 0.00131043609752\n",
      "140000 0.00129815382332\n",
      "150000 0.00129252454419\n",
      "200000 0.00126626822771\n",
      "220000 0.00125353827328\n",
      "240000 0.00123833750778\n",
      "250000 0.00123247560263\n",
      "270000 0.00122386296882\n",
      "280000 0.00121610583254\n",
      "300000 0.00120399237919\n",
      "320000 0.00118562340684\n",
      "330000 0.00118296855063\n",
      "340000 0.00118140085966\n",
      "350000 0.00118010386665\n",
      "360000 0.00117467409393\n",
      "370000 0.00116898002179\n",
      "380000 0.0011639464427\n",
      "400000 0.00116148069311\n",
      "410000 0.0011568042384\n",
      "420000 0.00115462159247\n",
      "430000 0.00115403321126\n",
      "440000 0.00114846027673\n",
      "450000 0.00114841978113\n",
      "460000 0.00114643446403\n",
      "480000 0.00113975616696\n",
      "490000 0.00113804527098\n",
      "500000 0.00113648219544\n",
      "510000 0.00113368661348\n",
      "530000 0.00112939256124\n",
      "540000 0.00112674652305\n",
      "550000 0.00112189132154\n",
      "570000 0.00111500553103\n",
      "580000 0.0011150110137\n",
      "590000 0.00111298128726\n",
      "600000 0.00111138579542\n",
      "620000 0.0011057728879\n",
      "630000 0.0011062155021\n",
      "640000 0.00110615120258\n",
      "650000 0.00110240669499\n",
      "670000 0.00109851229842\n",
      "690000 0.00109751489824\n",
      "710000 0.00109156431074\n",
      "720000 0.00108853616176\n",
      "730000 0.00108538143444\n",
      "760000 0.00107075875904\n",
      "780000 0.0010596864097\n",
      "810000 0.00104352390378\n",
      "820000 0.00103653258212\n",
      "840000 0.00102491322812\n",
      "860000 0.00101270914641\n",
      "870000 0.00100613262766\n",
      "890000 0.000993055282182\n",
      "900000 0.00098630313958\n",
      "910000 0.000979373401554\n",
      "920000 0.000973465512179\n",
      "940000 0.000960115441139\n",
      "950000 0.000952524531882\n",
      "960000 0.000945151322132\n",
      "970000 0.000938221366143\n",
      "980000 0.000931326455019\n",
      "990000 0.000923642945365\n",
      "Total error= 916.414522462\n",
      "10000 8.54439691984e-05\n",
      "20000 8.04680741754e-05\n",
      "50000 6.37950855478e-05\n",
      "60000 6.06758649957e-05\n",
      "70000 6.07526805621e-05\n",
      "80000 5.77063893457e-05\n",
      "90000 5.56036569484e-05\n",
      "100000 5.48612786711e-05\n",
      "110000 5.36819417922e-05\n",
      "130000 5.19275558875e-05\n",
      "140000 5.09861177033e-05\n",
      "150000 4.98332995553e-05\n",
      "200000 4.74386566415e-05\n",
      "220000 4.65867864201e-05\n",
      "240000 4.63983563679e-05\n",
      "250000 4.59239168864e-05\n",
      "270000 4.57884659138e-05\n",
      "280000 4.54079699921e-05\n",
      "300000 4.55959650035e-05\n",
      "320000 4.44190216701e-05\n",
      "330000 4.44940953895e-05\n",
      "340000 4.42143469798e-05\n",
      "350000 4.37382816857e-05\n",
      "360000 4.35276185229e-05\n",
      "370000 4.30379057024e-05\n",
      "380000 4.27172890418e-05\n",
      "400000 4.22826552767e-05\n",
      "410000 4.2675794031e-05\n",
      "420000 4.26811327837e-05\n",
      "430000 4.22305478097e-05\n",
      "440000 4.20169861952e-05\n",
      "450000 4.22914174721e-05\n",
      "460000 4.21729998038e-05\n",
      "480000 4.17625053631e-05\n",
      "490000 4.1927506972e-05\n",
      "500000 4.19251996989e-05\n",
      "510000 4.18523159551e-05\n",
      "530000 4.19122456419e-05\n",
      "540000 4.1637274845e-05\n",
      "550000 4.16641409062e-05\n",
      "570000 4.16638119814e-05\n",
      "580000 4.16446721008e-05\n",
      "590000 4.17789530438e-05\n",
      "600000 4.19603214974e-05\n",
      "620000 4.18531780883e-05\n",
      "630000 4.21802307602e-05\n",
      "640000 4.23924565446e-05\n",
      "650000 4.24466629623e-05\n",
      "670000 4.24078528452e-05\n",
      "690000 4.26224359929e-05\n",
      "710000 4.25526085103e-05\n",
      "720000 4.25539156029e-05\n",
      "730000 4.26118390322e-05\n",
      "760000 4.18907834304e-05\n",
      "780000 4.13960488157e-05\n",
      "810000 4.07150499427e-05\n",
      "820000 4.0399845118e-05\n",
      "840000 3.98413572347e-05\n",
      "860000 3.93040855379e-05\n",
      "870000 3.91086552905e-05\n",
      "890000 3.86265890891e-05\n",
      "900000 3.83088264121e-05\n",
      "910000 3.8087437862e-05\n",
      "920000 3.78289875617e-05\n",
      "940000 3.72889065796e-05\n",
      "950000 3.70081520705e-05\n",
      "960000 3.67587394961e-05\n",
      "970000 3.65636792162e-05\n",
      "980000 3.6339589799e-05\n",
      "990000 3.60529530441e-05\n",
      "Total error= 35.7995099843\n",
      "10000 2.66608603018e-06\n",
      "20000 2.15012659089e-06\n",
      "50000 2.29278135436e-06\n",
      "60000 3.33957909822e-06\n",
      "70000 3.7375350179e-06\n",
      "80000 3.43541327424e-06\n",
      "90000 3.69053773125e-06\n",
      "100000 4.12800219972e-06\n",
      "110000 3.91459461065e-06\n",
      "130000 3.62516386701e-06\n",
      "140000 3.64261804702e-06\n",
      "150000 3.50463239655e-06\n",
      "200000 3.44574405416e-06\n",
      "220000 3.25818040641e-06\n",
      "240000 3.26758747174e-06\n",
      "250000 3.18248809822e-06\n",
      "270000 3.11339437283e-06\n",
      "280000 3.06358419768e-06\n",
      "300000 3.00379904168e-06\n",
      "320000 3.33508914076e-06\n",
      "330000 3.35557965656e-06\n",
      "340000 3.30985268987e-06\n",
      "350000 3.28457802336e-06\n",
      "360000 3.22738109039e-06\n",
      "370000 3.18757620722e-06\n",
      "380000 3.14639148166e-06\n",
      "400000 3.16325790361e-06\n",
      "410000 3.14674289482e-06\n",
      "420000 3.12658442752e-06\n",
      "430000 3.09116639408e-06\n",
      "440000 3.13802109223e-06\n",
      "450000 3.20386981203e-06\n",
      "460000 3.18432701016e-06\n",
      "480000 3.20760992497e-06\n",
      "490000 3.279977682e-06\n",
      "500000 3.26393939144e-06\n",
      "510000 3.22945612753e-06\n",
      "530000 3.2806013298e-06\n",
      "540000 3.2453154561e-06\n",
      "550000 3.25878107099e-06\n",
      "570000 3.23298657164e-06\n",
      "580000 3.22623371536e-06\n",
      "590000 3.24034287512e-06\n",
      "600000 3.26516339697e-06\n",
      "620000 3.27315609739e-06\n",
      "630000 3.3129030863e-06\n",
      "640000 3.31617863513e-06\n",
      "650000 3.32310003437e-06\n",
      "670000 3.31233853858e-06\n",
      "690000 3.36131152148e-06\n",
      "710000 3.37813221022e-06\n",
      "720000 3.39680312858e-06\n",
      "730000 3.41773888452e-06\n",
      "760000 3.37941287805e-06\n",
      "780000 3.40018586807e-06\n",
      "810000 3.35384561446e-06\n",
      "820000 3.32667438692e-06\n",
      "840000 3.28865865321e-06\n",
      "860000 3.26186568418e-06\n",
      "870000 3.25396678672e-06\n",
      "890000 3.21796766058e-06\n",
      "900000 3.19239276738e-06\n",
      "910000 3.1676054075e-06\n",
      "920000 3.14449383549e-06\n",
      "940000 3.09332278734e-06\n",
      "950000 3.07872812974e-06\n",
      "960000 3.05425224525e-06\n",
      "970000 3.03932721442e-06\n",
      "980000 3.02075574447e-06\n",
      "990000 2.99768624088e-06\n",
      "Total error= 2.97546783609\n"
     ]
    },
    {
     "name": "stderr",
     "output_type": "stream",
     "text": [
      "C:\\Anaconda\\lib\\site-packages\\ipykernel\\__main__.py:14: DeprecationWarning: Implicitly casting between incompatible kinds. In a future numpy release, this will raise an error. Use casting=\"unsafe\" if this is intentional.\n"
     ]
    }
   ],
   "source": [
    "for epoch in range(4):\n",
    "    err = 0\n",
    "    for uid in np.arange(maxid):\n",
    "        uids = adj[uid].nonzero()[1]\n",
    "        if len(uids) == 0:\n",
    "            continue\n",
    "        arr = xi[uids].dot(D).sum(axis=0) #remove .dot(D) for faster simplified version\n",
    "\n",
    "        if np.max(arr) == 0:\n",
    "            continue\n",
    "        if np.isnan(np.min(arr)):\n",
    "            continue\n",
    "        arr /= np.sum(arr)\n",
    "        arr += x0[uid]\n",
    "        arr /= np.sum(arr)\n",
    "        arr = scipy.stats.threshold(arr, threshmin=0.01)\n",
    "        arr /= np.sum(arr)\n",
    "        err += np.linalg.norm(xi[uid]-arr)\n",
    "        xi[uid] = arr\n",
    "        if uid % 10000 == 0:\n",
    "            print uid, err/(uid+1)\n",
    "    print 'Total error=',err\n",
    "    save_sparse_csr('D:\\\\vk\\\\dcountryinfo\\\\ux'+str(epoch+1)+'.npz', xi.tocsr())"
   ]
  },
  {
   "cell_type": "code",
   "execution_count": null,
   "metadata": {
    "collapsed": false
   },
   "outputs": [],
   "source": []
  },
  {
   "cell_type": "code",
   "execution_count": null,
   "metadata": {
    "collapsed": false
   },
   "outputs": [],
   "source": []
  },
  {
   "cell_type": "code",
   "execution_count": null,
   "metadata": {
    "collapsed": false
   },
   "outputs": [],
   "source": []
  },
  {
   "cell_type": "code",
   "execution_count": null,
   "metadata": {
    "collapsed": false
   },
   "outputs": [],
   "source": []
  },
  {
   "cell_type": "code",
   "execution_count": null,
   "metadata": {
    "collapsed": true
   },
   "outputs": [],
   "source": []
  }
 ],
 "metadata": {
  "kernelspec": {
   "display_name": "Python 2",
   "language": "python",
   "name": "python2"
  },
  "language_info": {
   "codemirror_mode": {
    "name": "ipython",
    "version": 2
   },
   "file_extension": ".py",
   "mimetype": "text/x-python",
   "name": "python",
   "nbconvert_exporter": "python",
   "pygments_lexer": "ipython2",
   "version": "2.7.10"
  }
 },
 "nbformat": 4,
 "nbformat_minor": 0
}
